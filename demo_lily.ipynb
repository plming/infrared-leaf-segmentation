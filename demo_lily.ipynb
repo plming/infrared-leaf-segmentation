{
 "cells": [
  {
   "cell_type": "markdown",
   "metadata": {},
   "source": [
    "## 그래프 설정 및 IR, RGB 데이터 불러오기"
   ]
  },
  {
   "cell_type": "code",
   "execution_count": 4,
   "metadata": {},
   "outputs": [
    {
     "ename": "AssertionError",
     "evalue": "",
     "output_type": "error",
     "traceback": [
      "\u001B[0;31m---------------------------------------------------------------------------\u001B[0m",
      "\u001B[0;31mAssertionError\u001B[0m                            Traceback (most recent call last)",
      "Input \u001B[0;32mIn [4]\u001B[0m, in \u001B[0;36m<cell line: 10>\u001B[0;34m()\u001B[0m\n\u001B[1;32m      7\u001B[0m WIDTH \u001B[38;5;241m=\u001B[39m \u001B[38;5;241m320\u001B[39m\n\u001B[1;32m      8\u001B[0m HEIGHT \u001B[38;5;241m=\u001B[39m \u001B[38;5;241m240\u001B[39m\n\u001B[0;32m---> 10\u001B[0m ir \u001B[38;5;241m=\u001B[39m \u001B[43mutil\u001B[49m\u001B[38;5;241;43m.\u001B[39;49m\u001B[43mload_ir_in_csv\u001B[49m\u001B[43m(\u001B[49m\u001B[38;5;124;43m'\u001B[39;49m\u001B[38;5;124;43m./lily-ir/121.csv\u001B[39;49m\u001B[38;5;124;43m'\u001B[39;49m\u001B[43m)\u001B[49m\n\u001B[1;32m     11\u001B[0m rgb \u001B[38;5;241m=\u001B[39m cv2\u001B[38;5;241m.\u001B[39mcvtColor(src\u001B[38;5;241m=\u001B[39mcv2\u001B[38;5;241m.\u001B[39mimread(\u001B[38;5;124m'\u001B[39m\u001B[38;5;124m./lily-rgb/FLIR0121- 사진.jpg\u001B[39m\u001B[38;5;124m'\u001B[39m),\n\u001B[1;32m     12\u001B[0m                    code\u001B[38;5;241m=\u001B[39mcv2\u001B[38;5;241m.\u001B[39mCOLOR_BGR2RGB)\n\u001B[1;32m     14\u001B[0m fig, axs \u001B[38;5;241m=\u001B[39m plt\u001B[38;5;241m.\u001B[39msubplots(\u001B[38;5;241m1\u001B[39m, \u001B[38;5;241m2\u001B[39m)\n",
      "File \u001B[0;32m~/Desktop/infrared-image-lab/util.py:35\u001B[0m, in \u001B[0;36mload_ir_in_csv\u001B[0;34m(path)\u001B[0m\n\u001B[1;32m     33\u001B[0m WIDTH \u001B[38;5;241m=\u001B[39m \u001B[38;5;241m320\u001B[39m\n\u001B[1;32m     34\u001B[0m result \u001B[38;5;241m=\u001B[39m genfromtxt(path, delimiter\u001B[38;5;241m=\u001B[39m\u001B[38;5;124m'\u001B[39m\u001B[38;5;124m,\u001B[39m\u001B[38;5;124m'\u001B[39m, skip_header\u001B[38;5;241m=\u001B[39m\u001B[38;5;241m2\u001B[39m, usecols\u001B[38;5;241m=\u001B[39m\u001B[38;5;28mrange\u001B[39m(\u001B[38;5;241m1\u001B[39m, WIDTH \u001B[38;5;241m+\u001B[39m \u001B[38;5;241m1\u001B[39m))\n\u001B[0;32m---> 35\u001B[0m \u001B[38;5;28;01massert\u001B[39;00m result\u001B[38;5;241m.\u001B[39mshape \u001B[38;5;241m==\u001B[39m (\u001B[38;5;241m320\u001B[39m, \u001B[38;5;241m240\u001B[39m)\n\u001B[1;32m     36\u001B[0m \u001B[38;5;28;01mreturn\u001B[39;00m result\n",
      "\u001B[0;31mAssertionError\u001B[0m: "
     ]
    }
   ],
   "source": [
    "import cv2\n",
    "import matplotlib.pyplot as plt\n",
    "import util\n",
    "\n",
    "plt.rc('font', family='Apple SD Gothic Neo')\n",
    "\n",
    "WIDTH = 320\n",
    "HEIGHT = 240\n",
    "\n",
    "ir = util.load_ir_in_csv('./lily-ir/121.csv')\n",
    "rgb = cv2.cvtColor(src=cv2.imread('./lily-rgb/FLIR0121- 사진.jpg'),\n",
    "                   code=cv2.COLOR_BGR2RGB)\n",
    "\n",
    "fig, axs = plt.subplots(1, 2)\n",
    "\n",
    "axs[0].imshow(ir, cmap='plasma')\n",
    "axs[0].axis(False)\n",
    "axs[0].set_title('IR 이미지')\n",
    "\n",
    "axs[1].imshow(rgb)\n",
    "axs[1].axis(False)\n",
    "axs[1].set_title('RGB 이미지')\n",
    "\n",
    "plt.show()"
   ]
  },
  {
   "cell_type": "markdown",
   "metadata": {},
   "source": [
    "방법1: K-Means 클러스터링\n",
    "* Jenks Natural Breaks와 유사한 결과를 보임\n",
    "* Jenks Natural Breaks가 1D K-Means 클러스터링 알고리즘이기 때문\n",
    "* TODO: feature에 좌표(row, col) 추가"
   ]
  },
  {
   "cell_type": "code",
   "execution_count": null,
   "metadata": {},
   "outputs": [],
   "source": [
    "import numpy as np\n",
    "\n",
    "ir_kmeans = np.float32(ir).reshape(-1)\n",
    "criteria = (\n",
    "    cv2.TERM_CRITERIA_EPS, # type\n",
    "    10, # max_iter\n",
    "    0.001 # epsilon\n",
    "    )\n",
    "compactness, labels, centers = cv2.kmeans(data=ir_kmeans.ravel(),\n",
    "                                          K=2,\n",
    "                                          bestLabels=None,\n",
    "                                          criteria=criteria,\n",
    "                                          attempts=100,\n",
    "                                          flags=cv2.KMEANS_RANDOM_CENTERS)\n",
    "\n",
    "plt.imshow(labels.reshape(HEIGHT, WIDTH))\n",
    "plt.show()"
   ]
  },
  {
   "cell_type": "markdown",
   "metadata": {},
   "source": [
    "방법2: 윤곽선(contours) 찾기 및 채우기\n",
    "* 윤곽선이 잘 찾아지지 않음\n",
    "* threshold parameter 조정 필요"
   ]
  },
  {
   "cell_type": "code",
   "execution_count": null,
   "metadata": {},
   "outputs": [],
   "source": [
    "ir = ir.astype(np.uint8)\n",
    "\n",
    "edges = cv2.Canny(ir,\n",
    "                  threshold1=0.01,\n",
    "                  threshold2=0.02)\n",
    "plt.imshow(edges)\n",
    "plt.show()"
   ]
  },
  {
   "cell_type": "markdown",
   "metadata": {},
   "source": [
    "방법3: Jenks Natural Breaks 기법\n",
    "* 1D에 최적화된 K-Means 클러스터링이라고 알려짐"
   ]
  },
  {
   "cell_type": "code",
   "execution_count": null,
   "metadata": {},
   "outputs": [],
   "source": [
    "from jenkspy import jenks_breaks\n",
    "import numpy as np\n",
    "\n",
    "breaks_ir = jenks_breaks(ir.ravel(), nb_class=2)\n",
    "\n",
    "mask = cv2.inRange(ir, breaks_ir[1], breaks_ir[2])\n",
    "\n",
    "fig, axs = plt.subplots(1, 2)\n",
    "axs[0].imshow(mask, cmap='plasma')\n",
    "axs[0].axis(False)\n",
    "axs[0].set_title('mask')\n",
    "\n",
    "axs[1].imshow(cv2.bitwise_and(src1=cv2.cvtColor(mask, cv2.COLOR_GRAY2RGB),\n",
    "                              src2=rgb))\n",
    "axs[1].axis(False)\n",
    "axs[1].set_title('masked RGB')\n",
    "plt.show()"
   ]
  },
  {
   "cell_type": "markdown",
   "metadata": {},
   "source": [
    "방법4: K-Means 클러스터링(좌표 포함)"
   ]
  },
  {
   "cell_type": "code",
   "execution_count": null,
   "metadata": {},
   "outputs": [],
   "source": [
    "import numpy as np\n",
    "\n",
    "ir_with_pos = np.zeros(shape=(HEIGHT, WIDTH))\n",
    "for row in range(HEIGHT):\n",
    "    for col in range(WIDTH):\n",
    "        ir_with_pos[row][col] = np.nd\n",
    "for row, col in np.ndindex(ir.shape):\n",
    "    ir_with_pos[row][col] = (row, col, ir[row][col])\n",
    "\n",
    "# 정규화\n",
    "ir_with_pos[:,:,0] /= HEIGHT\n",
    "ir_with_pos[:,:,1] /= WIDTH\n",
    "#ir_with_pos[:,:,2] /= \n",
    "\n",
    "\n",
    "ir_with_pos = np.float32(ir_with_pos).reshape(-1,3)\n",
    "criteria = (\n",
    "    cv2.TERM_CRITERIA_EPS, # type\n",
    "    10, # max_iter\n",
    "    0.001 # epsilon\n",
    "    )\n",
    "compactness, labels, centers = cv2.kmeans(data=ir_with_pos,\n",
    "                                          K=2,\n",
    "                                          bestLabels=None,\n",
    "                                          criteria=criteria,\n",
    "                                          attempts=100,\n",
    "                                          flags=cv2.KMEANS_RANDOM_CENTERS)\n",
    "\n",
    "plt.imshow(labels.reshape(HEIGHT, WIDTH))\n",
    "plt.show()"
   ]
  },
  {
   "cell_type": "markdown",
   "metadata": {},
   "source": [
    "excess-green index 계산\n",
    "* RGB 이미지를 통해 계산한 값으로, segmentation의 성능 평가를 하기 위함"
   ]
  },
  {
   "cell_type": "code",
   "execution_count": null,
   "metadata": {},
   "outputs": [],
   "source": [
    "exg = np.zeros(shape=(HEIGHT, WIDTH))\n",
    "for row, col, _channel in np.ndindex(rgb.shape):\n",
    "    sum_channels = rgb[row][col].sum()\n",
    "    # TODO: 0으로 나누는 예외 사항 처리하기\n",
    "    if sum_channels == 0:\n",
    "        r, g, b = 0, 0, 0\n",
    "    else:\n",
    "        r, g, b = rgb[row][col] / sum_channels\n",
    "    exg[row][col] = 2 * g - r - b\n",
    "\n",
    "common.show_histogram(exg, title='exg histogram')\n",
    "\n",
    "breaks_exg = jenks_breaks(exg.ravel(), nb_class=2)\n",
    "\n",
    "leaf = cv2.inRange(exg, breaks_exg[1], breaks_exg[2])\n",
    "\n",
    "fig, axs = plt.subplots(1, 2)\n",
    "axs[0].imshow(exg, cmap='plasma')\n",
    "axs[0].axis(False)\n",
    "axs[0].set_title('excess-green index')\n",
    "\n",
    "axs[1].imshow(leaf, cmap=\"plasma\")\n",
    "axs[1].axis(False)\n",
    "axs[1].set_title('leaf region')\n",
    "\n",
    "plt.show()"
   ]
  },
  {
   "cell_type": "markdown",
   "metadata": {},
   "source": [
    "잎 영역의 온도 구하기"
   ]
  },
  {
   "cell_type": "code",
   "execution_count": null,
   "metadata": {},
   "outputs": [],
   "source": [
    "max_temperature = np.max(ir[mask == 0xFF])\n",
    "min_temperature = np.min(ir[mask == 0xFF])\n",
    "mean_temperature = cv2.mean(ir, mask)[0]\n",
    "\n",
    "print('온도 최대값:', max_temperature)\n",
    "print('온도 최소값:', min_temperature)\n",
    "print('온도 평균값:', mean_temperature)"
   ]
  }
 ],
 "metadata": {
  "kernelspec": {
   "display_name": "Python 3.9.13 ('venv': venv)",
   "language": "python",
   "name": "python3"
  },
  "language_info": {
   "codemirror_mode": {
    "name": "ipython",
    "version": 3
   },
   "file_extension": ".py",
   "mimetype": "text/x-python",
   "name": "python",
   "nbconvert_exporter": "python",
   "pygments_lexer": "ipython3",
   "version": "3.9.14"
  },
  "orig_nbformat": 4,
  "vscode": {
   "interpreter": {
    "hash": "b4088550a9e5a2df1643f2e19ee45211032191e59f07e4443fbfb8aa8fbd653c"
   }
  }
 },
 "nbformat": 4,
 "nbformat_minor": 2
}
