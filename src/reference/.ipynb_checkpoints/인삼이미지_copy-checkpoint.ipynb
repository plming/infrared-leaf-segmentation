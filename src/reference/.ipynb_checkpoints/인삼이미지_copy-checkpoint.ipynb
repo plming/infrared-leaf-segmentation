{
 "cells": [
  {
   "cell_type": "markdown",
   "metadata": {
    "pycharm": {
     "name": "#%% md\n"
    }
   },
   "source": [
    "# show IR images"
   ]
  },
  {
   "cell_type": "code",
   "execution_count": 3,
   "metadata": {
    "pycharm": {
     "name": "#%%\n"
    }
   },
   "outputs": [],
   "source": [
    "import array\n",
    "import numpy as np\n",
    "import matplotlib.pyplot as plt\n",
    "import matplotlib.lines as lines\n",
    "import array\n",
    "import plotly.graph_objects as go\n",
    "import plotly.express as px\n",
    "import plotly.io as pio\n",
    "\n",
    "crc_table = [\n",
    "    0x0000, 0x1021, 0x2042, 0x3063, 0x4084, 0x50a5, 0x60c6, 0x70e7,\n",
    "    0x8108, 0x9129, 0xa14a, 0xb16b, 0xc18c, 0xd1ad, 0xe1ce, 0xf1ef,\n",
    "    0x1231, 0x0210, 0x3273, 0x2252, 0x52b5, 0x4294, 0x72f7, 0x62d6,\n",
    "    0x9339, 0x8318, 0xb37b, 0xa35a, 0xd3bd, 0xc39c, 0xf3ff, 0xe3de,\n",
    "    0x2462, 0x3443, 0x0420, 0x1401, 0x64e6, 0x74c7, 0x44a4, 0x5485,\n",
    "    0xa56a, 0xb54b, 0x8528, 0x9509, 0xe5ee, 0xf5cf, 0xc5ac, 0xd58d,\n",
    "    0x3653, 0x2672, 0x1611, 0x0630, 0x76d7, 0x66f6, 0x5695, 0x46b4,\n",
    "    0xb75b, 0xa77a, 0x9719, 0x8738, 0xf7df, 0xe7fe, 0xd79d, 0xc7bc,\n",
    "    0x48c4, 0x58e5, 0x6886, 0x78a7, 0x0840, 0x1861, 0x2802, 0x3823,\n",
    "    0xc9cc, 0xd9ed, 0xe98e, 0xf9af, 0x8948, 0x9969, 0xa90a, 0xb92b,\n",
    "    0x5af5, 0x4ad4, 0x7ab7, 0x6a96, 0x1a71, 0x0a50, 0x3a33, 0x2a12,\n",
    "    0xdbfd, 0xcbdc, 0xfbbf, 0xeb9e, 0x9b79, 0x8b58, 0xbb3b, 0xab1a,\n",
    "    0x6ca6, 0x7c87, 0x4ce4, 0x5cc5, 0x2c22, 0x3c03, 0x0c60, 0x1c41,\n",
    "    0xedae, 0xfd8f, 0xcdec, 0xddcd, 0xad2a, 0xbd0b, 0x8d68, 0x9d49,\n",
    "    0x7e97, 0x6eb6, 0x5ed5, 0x4ef4, 0x3e13, 0x2e32, 0x1e51, 0x0e70,\n",
    "    0xff9f, 0xefbe, 0xdfdd, 0xcffc, 0xbf1b, 0xaf3a, 0x9f59, 0x8f78,\n",
    "    0x9188, 0x81a9, 0xb1ca, 0xa1eb, 0xd10c, 0xc12d, 0xf14e, 0xe16f,\n",
    "    0x1080, 0x00a1, 0x30c2, 0x20e3, 0x5004, 0x4025, 0x7046, 0x6067,\n",
    "    0x83b9, 0x9398, 0xa3fb, 0xb3da, 0xc33d, 0xd31c, 0xe37f, 0xf35e,\n",
    "    0x02b1, 0x1290, 0x22f3, 0x32d2, 0x4235, 0x5214, 0x6277, 0x7256,\n",
    "    0xb5ea, 0xa5cb, 0x95a8, 0x8589, 0xf56e, 0xe54f, 0xd52c, 0xc50d,\n",
    "    0x34e2, 0x24c3, 0x14a0, 0x0481, 0x7466, 0x6447, 0x5424, 0x4405,\n",
    "    0xa7db, 0xb7fa, 0x8799, 0x97b8, 0xe75f, 0xf77e, 0xc71d, 0xd73c,\n",
    "    0x26d3, 0x36f2, 0x0691, 0x16b0, 0x6657, 0x7676, 0x4615, 0x5634,\n",
    "    0xd94c, 0xc96d, 0xf90e, 0xe92f, 0x99c8, 0x89e9, 0xb98a, 0xa9ab,\n",
    "    0x5844, 0x4865, 0x7806, 0x6827, 0x18c0, 0x08e1, 0x3882, 0x28a3,\n",
    "    0xcb7d, 0xdb5c, 0xeb3f, 0xfb1e, 0x8bf9, 0x9bd8, 0xabbb, 0xbb9a,\n",
    "    0x4a75, 0x5a54, 0x6a37, 0x7a16, 0x0af1, 0x1ad0, 0x2ab3, 0x3a92,\n",
    "    0xfd2e, 0xed0f, 0xdd6c, 0xcd4d, 0xbdaa, 0xad8b, 0x9de8, 0x8dc9,\n",
    "    0x7c26, 0x6c07, 0x5c64, 0x4c45, 0x3ca2, 0x2c83, 0x1ce0, 0x0cc1,\n",
    "    0xef1f, 0xff3e, 0xcf5d, 0xdf7c, 0xaf9b, 0xbfba, 0x8fd9, 0x9ff8,\n",
    "    0x6e17, 0x7e36, 0x4e55, 0x5e74, 0x2e93, 0x3eb2, 0x0ed1, 0x1ef0]\n",
    "\n",
    "\n",
    "def show_irimage_ratio(file, ratioW, ratioH, offsetX=0, offsetY=0):\n",
    "    ''' show ir image '''\n",
    "\n",
    "    pio.renderers.default = 'iframe'  # jupyter에 보이도록 함\n",
    "\n",
    "    f = open(file, \"rb\")\n",
    "    data = f.read(160 * 120 * 2)  # 파일에서 str로 이진 데이터를 읽어옴\n",
    "    _crc = f.read(2)  # crc 이후로 파일 커서 이동\n",
    "    f.close()\n",
    "\n",
    "    bindata = array.array('H')  # unsinged short형 배열 생성\n",
    "    bindata.frombytes(data)  # str값을 기계값으로 해석하여 배열에 추가\n",
    "\n",
    "    irdata = np.array(bindata).reshape(120, 160)  # numpy 배열로 변환\n",
    "\n",
    "    maxv = irdata.max()\n",
    "    minv = irdata.min()\n",
    "    gap = maxv - minv  # 최대값과 최소값의 차\n",
    "    image = np.floor(((irdata - minv) / gap) * 255)  # [0, 255]의 값으로 변환\n",
    "\n",
    "    w = 160 * np.sqrt(ratioW)\n",
    "    h = 120 * np.sqrt(ratioH)\n",
    "    wo = (160 - w) / 2\n",
    "    ho = (120 - h) / 2\n",
    "    x = [wo, wo, wo + w, wo + w, wo]\n",
    "    y = [ho, ho + h, ho + h, ho, ho]\n",
    "    targetX = np.array(x) + offsetX\n",
    "    targetY = np.array(y) + offsetY\n",
    "\n",
    "    fig = px.imshow(image)\n",
    "    fig.add_trace(go.Scatter(x=targetX, y=targetY, marker_color='black'))\n",
    "    fig.show()\n",
    "\n",
    "\n",
    "def show_irimage_coordination(file, x, y, w, h):\n",
    "    ''' start (x, y), width, height - show ir image '''\n",
    "    pio.renderers.default = 'iframe'  # jupyter에 보이도록 함\n",
    "    f = open(file, \"rb\")\n",
    "    data = f.read(160 * 120 * 2)\n",
    "    crc = f.read(2)\n",
    "    f.close()\n",
    "\n",
    "    bindata = array.array('H')  # unsinged short format\n",
    "    bindata.frombytes(data)  # 문자열 배열을  변환\n",
    "    irdata = np.array(bindata).reshape(120, 160)\n",
    "\n",
    "    maxv = irdata.max()\n",
    "    minv = irdata.min()\n",
    "    gap = maxv - minv\n",
    "    image = np.floor(((irdata - minv) / gap) * 255)  #contrast\n",
    "\n",
    "    X = [x, x, x + w, x + w, x]\n",
    "    Y = [y, y + h, y + h, y, y]\n",
    "    fig = px.imshow(image)\n",
    "    fig.add_trace(go.Scatter(x=X, y=Y, marker_color='black'))\n",
    "    fig.show()\n",
    "\n",
    "\n",
    "def crc_xmodem(bytedata):\n",
    "    crc = 0\n",
    "    datalen = len(bytedata)\n",
    "\n",
    "    for i in range(datalen):\n",
    "        crc = crc ^ (bytedata[i] << 8)\n",
    "        crc = crc_table[crc >> 8] ^ (crc & 0xff)\n",
    "    return crc\n",
    "\n",
    "\n",
    "def load_irimage(filename):\n",
    "    with open(filename, 'rb') as f:\n",
    "        bindata = f.read(160 * 120 * 2)\n",
    "        bincrc = f.read(2)\n",
    "\n",
    "    calccrc = crc_xmodem(bindata)\n",
    "    crc = bincrc[0] | (bincrc[1] << 8)\n",
    "    if not calccrc == crc:\n",
    "        print('crc error {}:{}'.format(calccrc, crc))\n",
    "        raise ValueError(\"CRC error\")\n",
    "\n",
    "    irdata = array.array('H')\n",
    "    irdata.frombytes(bindata)\n",
    "    return irdata\n",
    "\n",
    "    listdata = []\n",
    "    k = 0\n",
    "    for y in range(120):\n",
    "        linedata = []\n",
    "        for x in range(160):\n",
    "            linedata.append(irdata[k])\n",
    "            k = k + 1\n",
    "        listdata.append(linedata)\n",
    "\n",
    "    return listdata\n",
    "\n",
    "\n",
    "def get_mean_temperature_target_ratio(filename, ratioW, ratioH, offsetX=0, offsetY=0):\n",
    "    ''' 대상 크기를 조정하고, 위치를 이동할 수 있게함'''\n",
    "    irdata = np.array(load_irimage(filename)).reshape(120, 160)\n",
    "    temp_data = (irdata - 27315) / 100\n",
    "\n",
    "    print('org: ', temp_data.min(), temp_data.max(), temp_data.shape, round(temp_data.mean(), 2))\n",
    "\n",
    "    ''' target 위치 설정'''\n",
    "    width = 160\n",
    "    height = 120\n",
    "    target_w = int(width * np.sqrt(ratioW))\n",
    "    target_h = int(height * np.sqrt(ratioH))\n",
    "    offset_w = int((width - target_w) / 2) + offsetX  # 타켓의 위치 이동\n",
    "    offset_h = int((height - target_h) / 2) + offsetY\n",
    "\n",
    "    target = temp_data[offset_w:(offset_w + target_w), offset_h:(offset_h + target_h)]\n",
    "    avg_temp = round(target.mean(), 1)\n",
    "\n",
    "    print('target: ', target.min(), target.max(), target.shape, round(target.mean(), 2))\n",
    "    return target.min(), target.max(), avg_temp\n",
    "\n",
    "\n",
    "def get_mean_temperature_coordination(filename, x, y, w, h):\n",
    "    ''' 대상 크기를 조정하고, 위치를 이동할 수 있게함'''\n",
    "    irdata = np.array(load_irimage(filename)).reshape(120, 160)\n",
    "    temp_data = (irdata - 27315) / 100\n",
    "\n",
    "    print('org: ', temp_data.min(), temp_data.max(), temp_data.shape, round(temp_data.mean(), 2))\n",
    "\n",
    "    ''' target 위치 설정'''\n",
    "    width = 160\n",
    "    height = 120\n",
    "    target = temp_data[x:x + w, y:y + h]\n",
    "    avg_temp = round(target.mean(), 1)\n",
    "\n",
    "    print('target: ', target.min(), target.max(), target.shape, round(target.mean(), 2))\n",
    "    return target.min(), target.max(), avg_temp\n",
    "\n",
    "\n",
    "def set_calibration_temp(value):\n",
    "    pass\n",
    "\n",
    "\n",
    "def showIRImages_ratio(file, w_ratio=0.1, h_ratio=0.1, w_offset=0, h_offset=0):\n",
    "    for f in file:\n",
    "        min_temp, max_temp, mean_temp = get_mean_temperature_target_ratio(f, w_ratio, h_ratio, w_offset, h_offset)\n",
    "        show_irimage_ratio(f, w_ratio, h_ratio, w_offset, h_offset)\n",
    "\n",
    "\n",
    "def showIRImages_coordination(file, x=40, y=10, w=45, h=20):\n",
    "    for f in file:\n",
    "        show_irimage_coordination(f, x, y, w, h)\n",
    "        get_mean_temperature_coordination(f, x, y, w, h)\n",
    "\n",
    "\n",
    "def showRGBImages(file):\n",
    "    for f in file:\n",
    "        image = plt.imread(f)\n",
    "        plt.imshow(image)\n",
    "        plt.show()\n",
    "        return image"
   ]
  },
  {
   "cell_type": "markdown",
   "metadata": {
    "pycharm": {
     "name": "#%% md\n"
    }
   },
   "source": [
    "# 1. Show IR image\n",
    "### 보고자 하는 파일 이름 변경한다."
   ]
  },
  {
   "cell_type": "code",
   "execution_count": 6,
   "metadata": {
    "pycharm": {
     "name": "#%%\n"
    }
   },
   "outputs": [
    {
     "data": {
      "text/html": "<iframe\n    scrolling=\"no\"\n    width=\"100%\"\n    height=\"545px\"\n    src=\"iframe_figures/figure_6.html\"\n    frameborder=\"0\"\n    allowfullscreen\n></iframe>\n"
     },
     "metadata": {},
     "output_type": "display_data"
    },
    {
     "name": "stdout",
     "output_type": "stream",
     "text": [
      "org:  24.97 26.15 (120, 160) 25.38\n",
      "target:  25.14 25.77 (50, 30) 25.42\n"
     ]
    }
   ],
   "source": [
    "import dualimage\n",
    "\n",
    "file = ['irimage_20220612_0800.dat']\n",
    "\n",
    "ir = showIRImages_coordination(file, x=35, y=10, w=50, h=30)"
   ]
  },
  {
   "cell_type": "code",
   "execution_count": 7,
   "metadata": {
    "pycharm": {
     "name": "#%%\n"
    }
   },
   "outputs": [
    {
     "ename": "AttributeError",
     "evalue": "'NoneType' object has no attribute 'shape'",
     "output_type": "error",
     "traceback": [
      "\u001B[0;31m---------------------------------------------------------------------------\u001B[0m",
      "\u001B[0;31mAttributeError\u001B[0m                            Traceback (most recent call last)",
      "Input \u001B[0;32mIn [7]\u001B[0m, in \u001B[0;36m<cell line: 1>\u001B[0;34m()\u001B[0m\n\u001B[0;32m----> 1\u001B[0m \u001B[43mir\u001B[49m\u001B[38;5;241;43m.\u001B[39;49m\u001B[43mshape\u001B[49m\n",
      "\u001B[0;31mAttributeError\u001B[0m: 'NoneType' object has no attribute 'shape'"
     ]
    }
   ],
   "source": [
    "ir.shape"
   ]
  },
  {
   "cell_type": "markdown",
   "metadata": {
    "pycharm": {
     "name": "#%% md\n"
    }
   },
   "source": [
    "# 2. show RGB image\n",
    "### 파일 이름 변경한다."
   ]
  },
  {
   "cell_type": "code",
   "execution_count": null,
   "metadata": {
    "pycharm": {
     "name": "#%%\n"
    }
   },
   "outputs": [],
   "source": [
    "import dualimage\n",
    "\n",
    "file = ['/tmp/camimage_20220520_1300.jpg']\n",
    "rgb = dualimage.showRGBImages(file)"
   ]
  },
  {
   "cell_type": "code",
   "execution_count": null,
   "metadata": {
    "pycharm": {
     "name": "#%%\n"
    }
   },
   "outputs": [],
   "source": []
  },
  {
   "cell_type": "code",
   "execution_count": null,
   "metadata": {
    "pycharm": {
     "name": "#%%\n"
    }
   },
   "outputs": [],
   "source": []
  },
  {
   "cell_type": "code",
   "execution_count": null,
   "metadata": {
    "pycharm": {
     "name": "#%%\n"
    }
   },
   "outputs": [],
   "source": []
  },
  {
   "cell_type": "code",
   "execution_count": null,
   "metadata": {
    "pycharm": {
     "name": "#%%\n"
    }
   },
   "outputs": [],
   "source": [
    "image.shape"
   ]
  },
  {
   "cell_type": "code",
   "execution_count": null,
   "metadata": {
    "pycharm": {
     "name": "#%%\n"
    }
   },
   "outputs": [],
   "source": [
    "a = [1, 2, 3, 5]\n",
    "a.all(1, 2)"
   ]
  },
  {
   "cell_type": "code",
   "execution_count": null,
   "metadata": {
    "pycharm": {
     "name": "#%%\n"
    }
   },
   "outputs": [],
   "source": [
    "rgbimage.shape"
   ]
  },
  {
   "cell_type": "code",
   "execution_count": null,
   "metadata": {
    "pycharm": {
     "name": "#%%\n"
    }
   },
   "outputs": [],
   "source": [
    "rgbimage[0, 0, 1]"
   ]
  },
  {
   "cell_type": "markdown",
   "metadata": {
    "pycharm": {
     "name": "#%% md\n"
    }
   },
   "source": [
    "# Test IR"
   ]
  },
  {
   "cell_type": "code",
   "execution_count": 5,
   "metadata": {
    "pycharm": {
     "name": "#%%\n"
    }
   },
   "outputs": [],
   "source": [
    "import array\n",
    "import numpy as np\n",
    "import matplotlib.pyplot as plt\n",
    "import matplotlib.lines as lines\n",
    "import array\n",
    "import plotly.graph_objects as go\n",
    "import plotly.express as px\n",
    "import plotly.io as pio\n",
    "\n",
    "\n",
    "def show_irimage(file, ratioW, ratioH, offsetX=0, offsetY=0):\n",
    "    ''' show ir image '''\n",
    "    pio.renderers.default = 'iframe'  # jupyter에 보이도록 함\n",
    "    f = open(file, \"rb\")\n",
    "    data = f.read(160 * 120 * 2)\n",
    "    crc = f.read(2)\n",
    "    f.close()\n",
    "\n",
    "    bindata = array.array('H')  # unsinged short format\n",
    "    bindata.frombytes(data)  # 문자열 배열을  변환\n",
    "\n",
    "    irdata = np.array(bindata).reshape(120, 160)\n",
    "\n",
    "    maxv = irdata.max()\n",
    "    minv = irdata.min()\n",
    "    gap = maxv - minv\n",
    "    image = np.floor(((irdata - minv) / gap) * 255)  #contrast\n",
    "\n",
    "    w = 160 * np.sqrt(ratioW)\n",
    "    h = 120 * np.sqrt(ratioH)\n",
    "    wo = (160 - w) / 2\n",
    "    ho = (120 - h) / 2\n",
    "    x = [wo, wo, wo + w, wo + w, wo]\n",
    "    y = [ho, ho + h, ho + h, ho, ho]\n",
    "    targetX = np.array(x) + offsetX\n",
    "    targetY = np.array(y) + offsetY\n",
    "\n",
    "    fig = px.imshow(image)\n",
    "    fig.add_trace(go.Scatter(x=targetX, y=targetY, marker_color='black'))\n",
    "    fig.show()\n",
    "    return image"
   ]
  },
  {
   "cell_type": "code",
   "execution_count": 6,
   "metadata": {
    "pycharm": {
     "name": "#%%\n"
    }
   },
   "outputs": [
    {
     "data": {
      "text/html": "<iframe\n    scrolling=\"no\"\n    width=\"100%\"\n    height=\"545px\"\n    src=\"iframe_figures/figure_6.html\"\n    frameborder=\"0\"\n    allowfullscreen\n></iframe>\n"
     },
     "metadata": {},
     "output_type": "display_data"
    }
   ],
   "source": [
    "w_ratio = 0.07\n",
    "h_ratio = 0.04\n",
    "w_offset = -15\n",
    "h_offset = -10\n",
    "\n",
    "f = 'irimage_20220612_0800.dat'\n",
    "\n",
    "ir = show_irimage(f, w_ratio, h_ratio, w_offset, h_offset)"
   ]
  },
  {
   "cell_type": "code",
   "execution_count": 7,
   "metadata": {
    "pycharm": {
     "name": "#%%\n"
    }
   },
   "outputs": [
    {
     "ename": "AttributeError",
     "evalue": "module 'dualimage' has no attribute 'showIRImages'",
     "output_type": "error",
     "traceback": [
      "\u001B[0;31m---------------------------------------------------------------------------\u001B[0m",
      "\u001B[0;31mAttributeError\u001B[0m                            Traceback (most recent call last)",
      "Input \u001B[0;32mIn [7]\u001B[0m, in \u001B[0;36m<cell line: 4>\u001B[0;34m()\u001B[0m\n\u001B[1;32m      1\u001B[0m \u001B[38;5;28;01mimport\u001B[39;00m \u001B[38;5;21;01mdualimage\u001B[39;00m\n\u001B[1;32m      3\u001B[0m file \u001B[38;5;241m=\u001B[39m [\u001B[38;5;124m\"\u001B[39m\u001B[38;5;124mirimage_20220612_0800.dat\u001B[39m\u001B[38;5;124m\"\u001B[39m]\n\u001B[0;32m----> 4\u001B[0m ir \u001B[38;5;241m=\u001B[39m \u001B[43mdualimage\u001B[49m\u001B[38;5;241;43m.\u001B[39;49m\u001B[43mshowIRImages\u001B[49m(file)\n",
      "\u001B[0;31mAttributeError\u001B[0m: module 'dualimage' has no attribute 'showIRImages'"
     ]
    }
   ],
   "source": [
    "import dualimage\n",
    "\n",
    "file = [\"irimage_20220612_0800.dat\"]\n",
    "ir = dualimage.showIRImages(file)"
   ]
  },
  {
   "cell_type": "code",
   "execution_count": null,
   "metadata": {
    "pycharm": {
     "name": "#%%\n"
    }
   },
   "outputs": [],
   "source": [
    "ir.shape"
   ]
  },
  {
   "cell_type": "code",
   "execution_count": null,
   "metadata": {
    "pycharm": {
     "name": "#%%\n"
    }
   },
   "outputs": [],
   "source": [
    "type(ir)"
   ]
  },
  {
   "cell_type": "code",
   "execution_count": null,
   "metadata": {
    "pycharm": {
     "name": "#%%\n"
    }
   },
   "outputs": [],
   "source": [
    "import pandas as pd\n",
    "\n",
    "df = pd.DataFrame(ir)\n",
    "df"
   ]
  },
  {
   "cell_type": "code",
   "execution_count": null,
   "metadata": {
    "pycharm": {
     "name": "#%%\n"
    }
   },
   "outputs": [],
   "source": [
    "ratio = 30\n",
    "upper_bound = 255 * ratio / 100\n",
    "df1 = df[df < upper_bound]\n",
    "df1.fillna(250, inplace=True)\n",
    "\n",
    "fig = px.imshow(df1)\n",
    "#fig.add_trace( go.Scatter(x=targetX, y=targetY, marker_color='black'))\n",
    "fig.show()"
   ]
  },
  {
   "cell_type": "markdown",
   "metadata": {
    "pycharm": {
     "name": "#%% md\n"
    }
   },
   "source": [
    "# RGB"
   ]
  },
  {
   "cell_type": "code",
   "execution_count": null,
   "metadata": {
    "pycharm": {
     "name": "#%%\n"
    }
   },
   "outputs": [],
   "source": [
    "import matplotlib.pyplot as plt\n",
    "\n",
    "image = plt.imread('/tmp/camimage_20220520_1300.jpg')\n",
    "\n",
    "plt.imshow(image)\n",
    "plt.show()"
   ]
  }
 ],
 "metadata": {
  "kernelspec": {
   "display_name": "Python 3",
   "language": "python",
   "name": "python3"
  },
  "language_info": {
   "codemirror_mode": {
    "name": "ipython",
    "version": 3
   },
   "file_extension": ".py",
   "mimetype": "text/x-python",
   "name": "python",
   "nbconvert_exporter": "python",
   "pygments_lexer": "ipython3",
   "version": "3.7.4"
  }
 },
 "nbformat": 4,
 "nbformat_minor": 5
}